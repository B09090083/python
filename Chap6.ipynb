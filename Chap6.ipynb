{
  "cells": [
    {
      "cell_type": "markdown",
      "metadata": {
        "id": "k-WUwvlOwDCV"
      },
      "source": [
        "# Chap6\n",
        "os套件：用來處理文件與目錄，與檔案相關操作"
      ]
    },
    {
      "cell_type": "code",
      "execution_count": null,
      "metadata": {
        "id": "KugCwzq1wDCc",
        "outputId": "9aae2ed8-02f2-4d4c-e78a-21b9a96598d6"
      },
      "outputs": [
        {
          "name": "stdout",
          "output_type": "stream",
          "text": [
            "C:\\Users\\Administrator\n"
          ]
        }
      ],
      "source": [
        "import os\n",
        "print(os.getcwd()) #顯示目前所在的工作目錄"
      ]
    },
    {
      "cell_type": "code",
      "execution_count": null,
      "metadata": {
        "id": "6J_qM0lrwDCl",
        "outputId": "3780002c-d251-4b5f-b86e-477a7d4a72b6"
      },
      "outputs": [
        {
          "data": {
            "text/plain": [
              "['.conda',\n",
              " '.condarc',\n",
              " '.config',\n",
              " '.dotnet',\n",
              " '.eclipse',\n",
              " '.ipynb_checkpoints',\n",
              " '.ipython',\n",
              " '.p2',\n",
              " '.packettracer',\n",
              " '.templateengine',\n",
              " '.tooling',\n",
              " '.VirtualBox',\n",
              " '.vscode',\n",
              " '3D Objects',\n",
              " 'anaconda3',\n",
              " 'AppData',\n",
              " 'Application Data',\n",
              " 'Chap6_inclass.ipynb',\n",
              " 'Cisco Packet Tracer 6.1.1sv',\n",
              " 'Cisco Packet Tracer 7.3.0',\n",
              " 'Cisco Packet Tracer 7.3.1',\n",
              " 'Contacts',\n",
              " 'Cookies',\n",
              " 'Desktop',\n",
              " 'Documents',\n",
              " 'Downloads',\n",
              " 'Favorites',\n",
              " 'Intel',\n",
              " 'IntelGraphicsProfiles',\n",
              " 'Links',\n",
              " 'Local Settings',\n",
              " 'MicrosoftEdgeBackups',\n",
              " 'Music',\n",
              " 'My Documents',\n",
              " 'NetHood',\n",
              " 'NTUSER.DAT',\n",
              " 'ntuser.dat.LOG1',\n",
              " 'ntuser.dat.LOG2',\n",
              " 'NTUSER.DAT{53b39e88-18c4-11ea-a811-000d3aa4692b}.TM.blf',\n",
              " 'NTUSER.DAT{53b39e88-18c4-11ea-a811-000d3aa4692b}.TMContainer00000000000000000001.regtrans-ms',\n",
              " 'NTUSER.DAT{53b39e88-18c4-11ea-a811-000d3aa4692b}.TMContainer00000000000000000002.regtrans-ms',\n",
              " 'ntuser.ini',\n",
              " 'Oracle',\n",
              " 'Pictures',\n",
              " 'PrintHood',\n",
              " 'Recent',\n",
              " 'Saved Games',\n",
              " 'Searches',\n",
              " 'SendTo',\n",
              " 'source',\n",
              " 'Templates',\n",
              " 'Videos',\n",
              " 'VirtualBox VMs',\n",
              " '「開始」功能表']"
            ]
          },
          "execution_count": 2,
          "metadata": {},
          "output_type": "execute_result"
        }
      ],
      "source": [
        "#顯示目錄下的檔案\n",
        "os.listdir(\".\")"
      ]
    },
    {
      "cell_type": "code",
      "execution_count": null,
      "metadata": {
        "id": "2S9oWwwowDCm",
        "outputId": "7d4c698e-bd05-4aba-83d6-7b8259ee73c1"
      },
      "outputs": [
        {
          "data": {
            "text/plain": [
              "['.conda',\n",
              " '.condarc',\n",
              " '.config',\n",
              " '.dotnet',\n",
              " '.eclipse',\n",
              " '.ipynb_checkpoints',\n",
              " '.ipython',\n",
              " '.p2',\n",
              " '.packettracer',\n",
              " '.templateengine',\n",
              " '.tooling',\n",
              " '.VirtualBox',\n",
              " '.vscode',\n",
              " '3D Objects',\n",
              " 'anaconda3',\n",
              " 'AppData',\n",
              " 'Application Data',\n",
              " 'Chap6_inclass.ipynb',\n",
              " 'Cisco Packet Tracer 6.1.1sv',\n",
              " 'Cisco Packet Tracer 7.3.0',\n",
              " 'Cisco Packet Tracer 7.3.1',\n",
              " 'Contacts',\n",
              " 'Cookies',\n",
              " 'Desktop',\n",
              " 'Documents',\n",
              " 'Downloads',\n",
              " 'Favorites',\n",
              " 'Intel',\n",
              " 'IntelGraphicsProfiles',\n",
              " 'Links',\n",
              " 'Local Settings',\n",
              " 'MicrosoftEdgeBackups',\n",
              " 'Music',\n",
              " 'My Documents',\n",
              " 'NetHood',\n",
              " 'NTUSER.DAT',\n",
              " 'ntuser.dat.LOG1',\n",
              " 'ntuser.dat.LOG2',\n",
              " 'NTUSER.DAT{53b39e88-18c4-11ea-a811-000d3aa4692b}.TM.blf',\n",
              " 'NTUSER.DAT{53b39e88-18c4-11ea-a811-000d3aa4692b}.TMContainer00000000000000000001.regtrans-ms',\n",
              " 'NTUSER.DAT{53b39e88-18c4-11ea-a811-000d3aa4692b}.TMContainer00000000000000000002.regtrans-ms',\n",
              " 'ntuser.ini',\n",
              " 'Oracle',\n",
              " 'Pictures',\n",
              " 'PrintHood',\n",
              " 'Recent',\n",
              " 'Saved Games',\n",
              " 'Searches',\n",
              " 'SendTo',\n",
              " 'source',\n",
              " 'Templates',\n",
              " 'test',\n",
              " 'Videos',\n",
              " 'VirtualBox VMs',\n",
              " '「開始」功能表']"
            ]
          },
          "execution_count": 3,
          "metadata": {},
          "output_type": "execute_result"
        }
      ],
      "source": [
        "#新增目錄\n",
        "os.makedirs(\"test\")\n",
        "os.listdir(\".\")"
      ]
    },
    {
      "cell_type": "code",
      "execution_count": null,
      "metadata": {
        "id": "t2mpl8YrwDCm",
        "outputId": "9157e31b-04bd-4494-9218-3aae9f27d339"
      },
      "outputs": [
        {
          "data": {
            "text/plain": [
              "['.conda',\n",
              " '.condarc',\n",
              " '.config',\n",
              " '.dotnet',\n",
              " '.eclipse',\n",
              " '.ipynb_checkpoints',\n",
              " '.ipython',\n",
              " '.p2',\n",
              " '.packettracer',\n",
              " '.templateengine',\n",
              " '.tooling',\n",
              " '.VirtualBox',\n",
              " '.vscode',\n",
              " '3D Objects',\n",
              " 'anaconda3',\n",
              " 'AppData',\n",
              " 'Application Data',\n",
              " 'Chap6_inclass.ipynb',\n",
              " 'Cisco Packet Tracer 6.1.1sv',\n",
              " 'Cisco Packet Tracer 7.3.0',\n",
              " 'Cisco Packet Tracer 7.3.1',\n",
              " 'Contacts',\n",
              " 'Cookies',\n",
              " 'Desktop',\n",
              " 'Documents',\n",
              " 'Downloads',\n",
              " 'Favorites',\n",
              " 'Intel',\n",
              " 'IntelGraphicsProfiles',\n",
              " 'Links',\n",
              " 'Local Settings',\n",
              " 'MicrosoftEdgeBackups',\n",
              " 'Music',\n",
              " 'My Documents',\n",
              " 'NetHood',\n",
              " 'NTUSER.DAT',\n",
              " 'ntuser.dat.LOG1',\n",
              " 'ntuser.dat.LOG2',\n",
              " 'NTUSER.DAT{53b39e88-18c4-11ea-a811-000d3aa4692b}.TM.blf',\n",
              " 'NTUSER.DAT{53b39e88-18c4-11ea-a811-000d3aa4692b}.TMContainer00000000000000000001.regtrans-ms',\n",
              " 'NTUSER.DAT{53b39e88-18c4-11ea-a811-000d3aa4692b}.TMContainer00000000000000000002.regtrans-ms',\n",
              " 'ntuser.ini',\n",
              " 'Oracle',\n",
              " 'Pictures',\n",
              " 'PrintHood',\n",
              " 'Recent',\n",
              " 'Saved Games',\n",
              " 'Searches',\n",
              " 'SendTo',\n",
              " 'source',\n",
              " 'Templates',\n",
              " 'Videos',\n",
              " 'VirtualBox VMs',\n",
              " '「開始」功能表']"
            ]
          },
          "execution_count": 4,
          "metadata": {},
          "output_type": "execute_result"
        }
      ],
      "source": [
        "#移除目錄\n",
        "os.rmdir(\"test\")\n",
        "os.listdir(\".\")"
      ]
    },
    {
      "cell_type": "markdown",
      "metadata": {
        "id": "MimVe1eNwDCn"
      },
      "source": [
        "## 檔案處理\n",
        "os套件有自己的檔案處理命令，而比較常用的是python內建的open\n",
        "* w = 可寫(預設建立檔案) 若檔案存在則會清除舊檔案\n",
        "* w+ = 可寫可讀(預設建立檔案) 若檔案存在則會清除舊檔案\n",
        "* r = 可讀\n",
        "* r+ = 可寫可讀 但寫入資料指向開頭\n",
        "* a = 可寫不能讀 寫入資料指向尾端\n",
        "* a+ = 可寫可讀 寫入資料指向尾端\n",
        "* b = 轉為2進位文件\n",
        "* ab+ = 2進位文件的讀寫 寫入資料指向尾端"
      ]
    },
    {
      "cell_type": "markdown",
      "metadata": {
        "id": "M3vqo_VAwDCo"
      },
      "source": [
        "## 新增檔案"
      ]
    },
    {
      "cell_type": "code",
      "execution_count": null,
      "metadata": {
        "id": "5JjvtlgBwDCo"
      },
      "outputs": [],
      "source": [
        "a=open(\"a.txt\",\"w\") #新增檔案\n",
        "a.write(\"This is a test1\")\n",
        "a.write(\"This is a test2\\n\")\n",
        "a.write(\"This is a test3\\n\")\n",
        "a.close() #關閉檔案"
      ]
    },
    {
      "cell_type": "markdown",
      "metadata": {
        "id": "QKfGsmk-wDCp"
      },
      "source": [
        "## 檢查檔案是否存在"
      ]
    },
    {
      "cell_type": "code",
      "execution_count": null,
      "metadata": {
        "id": "NZaMoDrUwDCq",
        "outputId": "deeb22bf-1e51-437f-fcb3-edf2c6a0d164"
      },
      "outputs": [
        {
          "data": {
            "text/plain": [
              "True"
            ]
          },
          "execution_count": 6,
          "metadata": {},
          "output_type": "execute_result"
        }
      ],
      "source": [
        "os.path.isfile(\"a.txt\")"
      ]
    },
    {
      "cell_type": "markdown",
      "metadata": {
        "id": "WiiV5Q1fwDCr"
      },
      "source": [
        "## 讀取檔案"
      ]
    },
    {
      "cell_type": "code",
      "execution_count": null,
      "metadata": {
        "id": "TQQ44TXMwDCs",
        "outputId": "bea088f9-fc6a-4b30-d7d0-2ee932c9cf35"
      },
      "outputs": [
        {
          "name": "stdout",
          "output_type": "stream",
          "text": [
            "This is a test1This is a test2\n",
            "\n",
            "This is a test3\n",
            "\n",
            "\n"
          ]
        }
      ],
      "source": [
        "a=open(\"a.txt\",\"r\")\n",
        "print(a.readline())\n",
        "print(a.readline())\n",
        "print(a.readline()) #多餘的命令，檔案只有2行\n",
        "a.close()"
      ]
    },
    {
      "cell_type": "code",
      "execution_count": null,
      "metadata": {
        "id": "uBFvR1t1wDCs",
        "outputId": "56d07195-292e-45aa-e37f-205e7403834a"
      },
      "outputs": [
        {
          "name": "stdout",
          "output_type": "stream",
          "text": [
            "['This is a test1This is a test2\\n', 'This is a test3\\n']\n"
          ]
        }
      ],
      "source": [
        "a=open(\"a.txt\",\"r\")\n",
        "print(a.readlines())  #一次讀取多行，與a.read()命令相同\n",
        "a.close()"
      ]
    },
    {
      "cell_type": "code",
      "execution_count": null,
      "metadata": {
        "id": "7K9ZaVMAwDCt",
        "outputId": "e0fc7be2-0f64-41fb-f5a6-69665681c6a3"
      },
      "outputs": [
        {
          "name": "stdout",
          "output_type": "stream",
          "text": [
            "['This is a test1This is a test2\\n', 'This is a test3\\n']\n"
          ]
        }
      ],
      "source": [
        "#加上檔案是否存在的判斷\n",
        "if os.path.isfile(\"a.txt\"):\n",
        "    a=open(\"a.txt\",\"r\")\n",
        "    print(a.readlines())\n",
        "    a.close()\n",
        "else:\n",
        "    print(\"檔案不存在\")"
      ]
    },
    {
      "cell_type": "markdown",
      "metadata": {
        "id": "3CxoNzJ8wDCt"
      },
      "source": [
        "## split函式"
      ]
    },
    {
      "cell_type": "code",
      "execution_count": null,
      "metadata": {
        "id": "3Jb5JwKawDCu",
        "outputId": "41e8866e-370d-43a2-f55d-ffefd7569187"
      },
      "outputs": [
        {
          "name": "stdout",
          "output_type": "stream",
          "text": [
            "['This', 'is', 'a', 'test1This', 'is', 'a', 'test2\\n']\n",
            "['This', 'is', 'a', 'test3\\n']\n"
          ]
        }
      ],
      "source": [
        "if os.path.isfile(\"a.txt\"):\n",
        "    a=open(\"a.txt\",\"r\")\n",
        "    for line in a:\n",
        "        fields=line.split(\" \") #以空白為切割欄位\n",
        "        print(fields)\n",
        "    a.close()\n",
        "else:\n",
        "    print(\"檔案不存在\")\n",
        "        "
      ]
    },
    {
      "cell_type": "markdown",
      "metadata": {
        "id": "W9jIG5BlwDCv"
      },
      "source": [
        "## 附加檔案"
      ]
    },
    {
      "cell_type": "code",
      "execution_count": null,
      "metadata": {
        "id": "mpaV-wEQwDCv"
      },
      "outputs": [],
      "source": [
        "a=open(\"a.txt\", \"a\")\n",
        "a.write(\"This is test4\\n\")\n",
        "a.close()"
      ]
    },
    {
      "cell_type": "code",
      "execution_count": null,
      "metadata": {
        "id": "0lhBA0RUwDCw",
        "outputId": "66b0a6e7-0fa8-4342-98e6-49a35db891f3"
      },
      "outputs": [
        {
          "name": "stdout",
          "output_type": "stream",
          "text": [
            "['This is a test1This is a test2\\n', 'This is a test3\\n', 'This is test4\\n']\n"
          ]
        }
      ],
      "source": [
        "a=open(\"a.txt\",\"r\")\n",
        "print(a.readlines())\n",
        "a.close()"
      ]
    },
    {
      "cell_type": "markdown",
      "metadata": {
        "id": "qQH47yeUwDC0"
      },
      "source": [
        "## 比較a與r+的不同\n",
        "* a寫在檔案的結尾\n",
        "* r+寫在檔案的開頭"
      ]
    },
    {
      "cell_type": "code",
      "execution_count": null,
      "metadata": {
        "id": "ugDs3MWDwDC1"
      },
      "outputs": [],
      "source": [
        "a=open(\"a.txt\",\"r+\")\n",
        "a.write(\"This is a test5\\n\")\n",
        "a.close()"
      ]
    },
    {
      "cell_type": "code",
      "execution_count": null,
      "metadata": {
        "id": "QXrNufKDwDC5",
        "outputId": "8bc66eb3-1637-4acf-edc4-99ccc22ea776"
      },
      "outputs": [
        {
          "name": "stdout",
          "output_type": "stream",
          "text": [
            "['This is a test5\\n', 'is is a test2\\n', 'This is a test3\\n', 'This is test4\\n']\n"
          ]
        }
      ],
      "source": [
        "a=open(\"a.txt\",\"r\")\n",
        "print(a.readlines())\n",
        "a.close()"
      ]
    },
    {
      "cell_type": "markdown",
      "metadata": {
        "id": "zJqcPH3xwDC5"
      },
      "source": [
        "## 刪除檔案"
      ]
    },
    {
      "cell_type": "code",
      "execution_count": null,
      "metadata": {
        "id": "ZQ52nVAYwDC5",
        "outputId": "5d81c4db-72a5-4aa0-9238-7c6cddb8047e"
      },
      "outputs": [
        {
          "name": "stdout",
          "output_type": "stream",
          "text": [
            "檔案刪除成功\n",
            "False\n"
          ]
        }
      ],
      "source": [
        "if os.path.isfile(\"a.txt\"):\n",
        "    os.remove(\"a.txt\")\n",
        "    print(\"檔案刪除成功\")\n",
        "else:\n",
        "    print(\"找不到檔案\")\n",
        "print(os.path.isfile(\"a.txt\"))"
      ]
    },
    {
      "cell_type": "code",
      "execution_count": null,
      "metadata": {
        "id": "QtWze_7nwDC6"
      },
      "outputs": [],
      "source": [
        ""
      ]
    }
  ],
  "metadata": {
    "kernelspec": {
      "display_name": "Python 3",
      "language": "python",
      "name": "python3"
    },
    "language_info": {
      "codemirror_mode": {
        "name": "ipython",
        "version": 3
      },
      "file_extension": ".py",
      "mimetype": "text/x-python",
      "name": "python",
      "nbconvert_exporter": "python",
      "pygments_lexer": "ipython3",
      "version": "3.8.5"
    },
    "colab": {
      "name": "Chap6.ipynb",
      "provenance": []
    }
  },
  "nbformat": 4,
  "nbformat_minor": 0
}